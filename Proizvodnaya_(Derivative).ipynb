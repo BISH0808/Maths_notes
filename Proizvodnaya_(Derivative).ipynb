{
  "nbformat": 4,
  "nbformat_minor": 0,
  "metadata": {
    "colab": {
      "provenance": [],
      "authorship_tag": "ABX9TyMV4R5vifApvQItHUQHRsxq",
      "include_colab_link": true
    },
    "kernelspec": {
      "name": "python3",
      "display_name": "Python 3"
    },
    "language_info": {
      "name": "python"
    }
  },
  "cells": [
    {
      "cell_type": "markdown",
      "metadata": {
        "id": "view-in-github",
        "colab_type": "text"
      },
      "source": [
        "<a href=\"https://colab.research.google.com/github/BISH0808/Maths_notes/blob/main/Proizvodnaya_(Derivative).ipynb\" target=\"_parent\"><img src=\"https://colab.research.google.com/assets/colab-badge.svg\" alt=\"Open In Colab\"/></a>"
      ]
    },
    {
      "cell_type": "code",
      "execution_count": null,
      "metadata": {
        "id": "0FTycksXjs0j"
      },
      "outputs": [],
      "source": [
        "Что такое "
      ]
    },
    {
      "cell_type": "markdown",
      "source": [
        "#Что такое производная?"
      ],
      "metadata": {
        "id": "HahR0njakMPK"
      }
    },
    {
      "cell_type": "markdown",
      "source": [],
      "metadata": {
        "id": "CqBdxTH5kSzf"
      }
    }
  ]
}